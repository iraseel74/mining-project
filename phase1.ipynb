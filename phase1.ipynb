{
  "nbformat": 4,
  "nbformat_minor": 0,
  "metadata": {
    "colab": {
      "provenance": [],
      "toc_visible": true,
      "authorship_tag": "ABX9TyNcV75zqgJ8Wdl0yIaMQ7Ac",
      "include_colab_link": true
    },
    "kernelspec": {
      "name": "python3",
      "display_name": "Python 3"
    },
    "language_info": {
      "name": "python"
    }
  },
  "cells": [
    {
      "cell_type": "markdown",
      "metadata": {
        "id": "view-in-github",
        "colab_type": "text"
      },
      "source": [
        "<a href=\"https://colab.research.google.com/github/iraseel74/mining-project/blob/main/phase1.ipynb\" target=\"_parent\"><img src=\"https://colab.research.google.com/assets/colab-badge.svg\" alt=\"Open In Colab\"/></a>"
      ]
    },
    {
      "cell_type": "code",
      "source": [
        "import pandas as pd\n",
        "\n",
        "import numpy as np\n",
        "\n",
        "import matplotlib.pyplot as plt\n",
        "\n",
        "df = pd.read_csv('/student-por.csv')\n",
        "\n",
        "df.info()"
      ],
      "metadata": {
        "colab": {
          "base_uri": "https://localhost:8080/"
        },
        "id": "jRN-XZZPFDjx",
        "outputId": "e607c549-e35b-4d35-faa0-1864071bd7ae"
      },
      "execution_count": 3,
      "outputs": [
        {
          "output_type": "stream",
          "name": "stdout",
          "text": [
            "<class 'pandas.core.frame.DataFrame'>\n",
            "RangeIndex: 649 entries, 0 to 648\n",
            "Data columns (total 33 columns):\n",
            " #   Column      Non-Null Count  Dtype \n",
            "---  ------      --------------  ----- \n",
            " 0   school      649 non-null    object\n",
            " 1   sex         649 non-null    object\n",
            " 2   age         649 non-null    int64 \n",
            " 3   address     649 non-null    object\n",
            " 4   famsize     649 non-null    object\n",
            " 5   Pstatus     649 non-null    object\n",
            " 6   Medu        649 non-null    int64 \n",
            " 7   Fedu        649 non-null    int64 \n",
            " 8   Mjob        649 non-null    object\n",
            " 9   Fjob        649 non-null    object\n",
            " 10  reason      649 non-null    object\n",
            " 11  guardian    649 non-null    object\n",
            " 12  traveltime  649 non-null    int64 \n",
            " 13  studytime   649 non-null    int64 \n",
            " 14  failures    649 non-null    int64 \n",
            " 15  schoolsup   649 non-null    object\n",
            " 16  famsup      649 non-null    object\n",
            " 17  paid        649 non-null    object\n",
            " 18  activities  649 non-null    object\n",
            " 19  nursery     649 non-null    object\n",
            " 20  higher      649 non-null    object\n",
            " 21  internet    649 non-null    object\n",
            " 22  romantic    649 non-null    object\n",
            " 23  famrel      649 non-null    int64 \n",
            " 24  freetime    649 non-null    int64 \n",
            " 25  goout       649 non-null    int64 \n",
            " 26  Dalc        649 non-null    int64 \n",
            " 27  Walc        649 non-null    int64 \n",
            " 28  health      649 non-null    int64 \n",
            " 29  absences    649 non-null    int64 \n",
            " 30  G1          649 non-null    int64 \n",
            " 31  G2          649 non-null    int64 \n",
            " 32  G3          649 non-null    int64 \n",
            "dtypes: int64(16), object(17)\n",
            "memory usage: 167.4+ KB\n"
          ]
        }
      ]
    },
    {
      "cell_type": "markdown",
      "source": [
        "goal: Our goal is to predict the weekly alcohol consumption from 1 to 5 based on the features\n",
        "\n",
        "school - student's school - binary\n",
        "\n",
        "sex - student's sex - binary\n",
        "\n",
        "age - student's age - numeric\n",
        "\n",
        "address - student's home address type - binary\n",
        "\n",
        "famsize - family size - binary\n",
        "\n",
        "Pstatus - parent's cohabitation status - binary\n",
        "\n",
        "Medu - mother's education - numeric\n",
        "\n",
        "Fedu - father's education - numeric\n",
        "\n",
        "Mjob - mother's job - nominal\n",
        "\n",
        "Fjob - father's job - nominal\n",
        "\n",
        "reason - reason to choose this school - nominal\n",
        "\n",
        "guardian - student's guardian - nominal\n",
        "\n",
        "traveltime - home to school travel time - numeric\n",
        "\n",
        "studytime - weekly study time - numeric\n",
        "\n",
        "failures - number of past class failures - numeric\n",
        "\n",
        "schoolsup - extra educational support - binary\n",
        "\n",
        "famsup - family educational support - binary\n",
        "\n",
        "paid - extra paid classes within the course subject Math or Portuguese - binary\n",
        "\n",
        "activities - extra-curricular activities - binary\n",
        "\n",
        "nursery - attended nursery school - binary\n",
        "\n",
        "higher - wants to take higher education - binary\n",
        "\n",
        "internet - Internet access at home - binary\n",
        "\n",
        "romantic - with a romantic relationship - binary\n",
        "\n",
        "famrel - quality of family relationships - numeric\n",
        "\n",
        "freetime - free time after school - numeric\n",
        "\n",
        "goout - going out with friends - numeric\n",
        "\n",
        "Dalc - workday alcohol consumption - numeric\n",
        "\n",
        "Walc - weekend alcohol consumption - numeric\n",
        "\n",
        "health - current health status - numeric\n",
        "\n",
        "absences - number of school absences - numeric\n",
        "\n",
        "These grades are related with the course subject, Math or Portuguese:\n",
        "\n",
        "G1 - first period grade - numeric\n",
        "\n",
        "G2 - second period grade - numeric\n",
        "\n",
        "G3 - final grade - numeric\n",
        "\n",
        " number of attributes = 33 , number of object = 648\n",
        "\n",
        " source https://www.kaggle.com/datasets/uciml/student-alcohol-consumption\n",
        "\n",
        "class name : alcohol consumption"
      ],
      "metadata": {
        "id": "NsUz1CJGWnBp"
      }
    }
  ]
}