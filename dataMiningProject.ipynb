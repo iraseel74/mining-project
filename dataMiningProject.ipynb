{
  "metadata": {
    "kernelspec": {
      "name": "python",
      "display_name": "Python (Pyodide)",
      "language": "python"
    },
    "language_info": {
      "codemirror_mode": {
        "name": "python",
        "version": 3
      },
      "file_extension": ".py",
      "mimetype": "text/x-python",
      "name": "python",
      "nbconvert_exporter": "python",
      "pygments_lexer": "ipython3",
      "version": "3.8"
    }
  },
  "nbformat_minor": 4,
  "nbformat": 4,
  "cells": [
    {
      "cell_type": "code",
      "source": "import pandas as pd\n\nimport numpy as np\n\nimport matplotlib.pyplot as plt\n\ndf = pd.read_csv('student-por.csv')\n\ndf.info()\n\n##  goal: Our goal is to analyze the social factors and the duration of alcohol consumption among students and their impact on academic \n##  performance in the Portuguese language course. Additionally, we aim to predict the final grade based on these factors.\n##  number of attributes = 33 , number of object = 648\n##  school binary\n## sex binary \n##age numeric\n##address binary\n##famsize binary\n##Pstatus binary\n\n##  source https://www.kaggle.com/datasets/uciml/student-alcohol-consumption\n##  class name: alcohol consumption\n",
      "metadata": {
        "trusted": true
      },
      "outputs": [
        {
          "name": "stdout",
          "text": "<class 'pandas.core.frame.DataFrame'>\nRangeIndex: 649 entries, 0 to 648\nData columns (total 33 columns):\n #   Column      Non-Null Count  Dtype \n---  ------      --------------  ----- \n 0   school      649 non-null    object\n 1   sex         649 non-null    object\n 2   age         649 non-null    int64 \n 3   address     649 non-null    object\n 4   famsize     649 non-null    object\n 5   Pstatus     649 non-null    object\n 6   Medu        649 non-null    int64 \n 7   Fedu        649 non-null    int64 \n 8   Mjob        649 non-null    object\n 9   Fjob        649 non-null    object\n 10  reason      649 non-null    object\n 11  guardian    649 non-null    object\n 12  traveltime  649 non-null    int64 \n 13  studytime   649 non-null    int64 \n 14  failures    649 non-null    int64 \n 15  schoolsup   649 non-null    object\n 16  famsup      649 non-null    object\n 17  paid        649 non-null    object\n 18  activities  649 non-null    object\n 19  nursery     649 non-null    object\n 20  higher      649 non-null    object\n 21  internet    649 non-null    object\n 22  romantic    649 non-null    object\n 23  famrel      649 non-null    int64 \n 24  freetime    649 non-null    int64 \n 25  goout       649 non-null    int64 \n 26  Dalc        649 non-null    int64 \n 27  Walc        649 non-null    int64 \n 28  health      649 non-null    int64 \n 29  absences    649 non-null    int64 \n 30  G1          649 non-null    int64 \n 31  G2          649 non-null    int64 \n 32  G3          649 non-null    int64 \ndtypes: int64(16), object(17)\nmemory usage: 124.3+ KB\n",
          "output_type": "stream"
        }
      ],
      "execution_count": 10
    },
    {
      "cell_type": "code",
      "source": "",
      "metadata": {
        "trusted": true
      },
      "outputs": [],
      "execution_count": null
    }
  ]
}